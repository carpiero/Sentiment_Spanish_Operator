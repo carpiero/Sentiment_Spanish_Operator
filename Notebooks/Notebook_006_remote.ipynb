{
 "cells": [
  {
   "cell_type": "code",
   "execution_count": 1,
   "metadata": {},
   "outputs": [
    {
     "name": "stdout",
     "output_type": "stream",
     "text": [
      "<class 'pandas.core.frame.DataFrame'>\n",
      "Int64Index: 204192 entries, 0 to 241679\n",
      "Data columns (total 22 columns):\n",
      " #   Column                    Non-Null Count   Dtype         \n",
      "---  ------                    --------------   -----         \n",
      " 0   created_at                204192 non-null  datetime64[ns]\n",
      " 1   tweet_id                  204192 non-null  object        \n",
      " 2   Tweet_Content             204192 non-null  object        \n",
      " 3   name                      204192 non-null  category      \n",
      " 4   user_id                   204192 non-null  category      \n",
      " 5   user_followers            204192 non-null  int64         \n",
      " 6   user_location             204192 non-null  category      \n",
      " 7   source                    204192 non-null  category      \n",
      " 8   entities                  204192 non-null  object        \n",
      " 9   reply_user_id             204192 non-null  category      \n",
      " 10  reply_status_id           204192 non-null  category      \n",
      " 11  Tweet_Number_of_Likes     204192 non-null  int64         \n",
      " 12  Tweet_Number_of_Retweets  204192 non-null  int64         \n",
      " 13  username                  204192 non-null  category      \n",
      " 14  GRUPO                     204192 non-null  category      \n",
      " 15  urls                      204192 non-null  object        \n",
      " 16  stars                     204192 non-null  int64         \n",
      " 17  stars_score               204192 non-null  float64       \n",
      " 18  Year                      204192 non-null  int64         \n",
      " 19  Month                     204192 non-null  int64         \n",
      " 20  Day                       204192 non-null  int64         \n",
      " 21  Tweet_Content_Token       204192 non-null  object        \n",
      "dtypes: category(8), datetime64[ns](1), float64(1), int64(7), object(5)\n",
      "memory usage: 255.3 MB\n",
      "None\n",
      "<class 'pandas.core.frame.DataFrame'>\n",
      "Int64Index: 204192 entries, 0 to 241679\n",
      "Data columns (total 22 columns):\n",
      " #   Column                    Non-Null Count   Dtype         \n",
      "---  ------                    --------------   -----         \n",
      " 0   created_at                204192 non-null  datetime64[ns]\n",
      " 1   tweet_id                  204192 non-null  object        \n",
      " 2   Tweet_Content             204192 non-null  object        \n",
      " 3   name                      204192 non-null  category      \n",
      " 4   user_id                   204192 non-null  category      \n",
      " 5   user_followers            204192 non-null  int64         \n",
      " 6   user_location             204192 non-null  category      \n",
      " 7   source                    204192 non-null  category      \n",
      " 8   entities                  204192 non-null  object        \n",
      " 9   reply_user_id             204192 non-null  category      \n",
      " 10  reply_status_id           204192 non-null  category      \n",
      " 11  Tweet_Number_of_Likes     204192 non-null  int64         \n",
      " 12  Tweet_Number_of_Retweets  204192 non-null  int64         \n",
      " 13  username                  204192 non-null  category      \n",
      " 14  GRUPO                     204192 non-null  category      \n",
      " 15  urls                      204192 non-null  object        \n",
      " 16  stars                     204192 non-null  int64         \n",
      " 17  stars_score               204192 non-null  float64       \n",
      " 18  Year                      204192 non-null  int64         \n",
      " 19  Month                     204192 non-null  int64         \n",
      " 20  Day                       204192 non-null  int64         \n",
      " 21  Tweet_Content_Token       204192 non-null  object        \n",
      "dtypes: category(8), datetime64[ns](1), float64(1), int64(7), object(5)\n",
      "memory usage: 253.8 MB\n",
      "None\n"
     ]
    }
   ],
   "source": [
    "import pandas as pd\n",
    "from datetime import datetime as dt\n",
    "import matplotlib.pyplot as plt\n",
    "import datetime\n",
    "\n",
    "df=pd.read_parquet('../data/df.parquet')\n",
    "\n",
    "df_total=pd.read_parquet('../data/df_total.parquet')\n",
    "\n",
    "print(df.info(memory_usage='deep'))\n",
    "print(df_total.info(memory_usage='deep'))\n"
   ]
  },
  {
   "cell_type": "code",
   "execution_count": null,
   "metadata": {},
   "outputs": [],
   "source": [
    "list_mean_columns_nulls=[df.describe().T.loc[f'{x}','mean']for x in df.describe().T.index]\n",
    "list_mean_columns_allDataframe=[df_total.describe().T.loc[f'{x}','mean']for x in df_total.describe().T.index]\n",
    "mean_subtraction=[u - v for (u, v) in zip(list_mean_columns_nulls, list_mean_columns_allDataframe)]\n",
    "\n",
    "mean_subtraction"
   ]
  },
  {
   "cell_type": "code",
   "execution_count": null,
   "metadata": {},
   "outputs": [],
   "source": [
    "df_total.describe().T"
   ]
  },
  {
   "cell_type": "code",
   "execution_count": null,
   "metadata": {},
   "outputs": [],
   "source": [
    "df.describe()\n",
    "\n"
   ]
  },
  {
   "cell_type": "code",
   "execution_count": null,
   "metadata": {},
   "outputs": [],
   "source": [
    "df_total"
   ]
  },
  {
   "cell_type": "code",
   "execution_count": null,
   "metadata": {},
   "outputs": [],
   "source": [
    "df"
   ]
  },
  {
   "cell_type": "code",
   "execution_count": 23,
   "metadata": {},
   "outputs": [],
   "source": [
    "today = datetime.date.today()\n",
    "yest = today - datetime.timedelta(days=1)\n",
    "first = today.replace(day=1)\n",
    "lastMonth = first - datetime.timedelta(days=1)\n",
    "tomorrow = today + datetime.timedelta(days=1)\n",
    "\n",
    "today2=pd.to_datetime(today)\n",
    "yest2=pd.to_datetime(yest)\n",
    "\n",
    "start_date = yest2\n",
    "end_date = today2\n",
    "\n",
    "df_fil = df.loc[(df['created_at'] >= start_date) & (df['created_at'] < end_date)]"
   ]
  },
  {
   "cell_type": "code",
   "execution_count": 24,
   "metadata": {},
   "outputs": [
    {
     "data": {
      "text/plain": [
       "(1388, 22)"
      ]
     },
     "execution_count": 24,
     "metadata": {},
     "output_type": "execute_result"
    }
   ],
   "source": [
    "df_fil.shape"
   ]
  },
  {
   "cell_type": "code",
   "execution_count": 12,
   "metadata": {},
   "outputs": [],
   "source": [
    "USER_types= ['@vodafone_es','@vodafoneyu']\n",
    "USER_types= ['@vodafone_es', '@vodafoneyu', '@yoigo', '@Amena', '@simyo_es',\n",
    "       '@pepephone', '@movistar_es', '@orange_es', '@masmovil', '@o2es',\n",
    "       '@Lowi_es', '@TuentiES', '@jazztel_es']\n",
    "start_date=yest2\n",
    "end_date=today2\n",
    "\n"
   ]
  },
  {
   "cell_type": "code",
   "execution_count": 92,
   "metadata": {},
   "outputs": [
    {
     "name": "stderr",
     "output_type": "stream",
     "text": [
      "/home/carpiero/miniconda3/envs/sentiment_env/lib/python3.7/site-packages/ipykernel_launcher.py:3: SettingWithCopyWarning: \n",
      "A value is trying to be set on a copy of a slice from a DataFrame.\n",
      "Try using .loc[row_indexer,col_indexer] = value instead\n",
      "\n",
      "See the caveats in the documentation: https://pandas.pydata.org/pandas-docs/stable/user_guide/indexing.html#returning-a-view-versus-a-copy\n",
      "  This is separate from the ipykernel package so we can avoid doing imports until\n",
      "/home/carpiero/miniconda3/envs/sentiment_env/lib/python3.7/site-packages/pandas/core/indexing.py:1763: SettingWithCopyWarning: \n",
      "A value is trying to be set on a copy of a slice from a DataFrame.\n",
      "Try using .loc[row_indexer,col_indexer] = value instead\n",
      "\n",
      "See the caveats in the documentation: https://pandas.pydata.org/pandas-docs/stable/user_guide/indexing.html#returning-a-view-versus-a-copy\n",
      "  isetter(loc, value)\n",
      "/home/carpiero/miniconda3/envs/sentiment_env/lib/python3.7/site-packages/ipykernel_launcher.py:19: SettingWithCopyWarning: \n",
      "A value is trying to be set on a copy of a slice from a DataFrame.\n",
      "Try using .loc[row_indexer,col_indexer] = value instead\n",
      "\n",
      "See the caveats in the documentation: https://pandas.pydata.org/pandas-docs/stable/user_guide/indexing.html#returning-a-view-versus-a-copy\n"
     ]
    }
   ],
   "source": [
    "df_f=df[['stars','username','created_at']]\n",
    "\n",
    "df_f['orden'] = ''\n",
    "\n",
    "df_f.loc[df_f['username'] == '@vodafone_es' , 'orden'] = 11\n",
    "df_f.loc[df_f['username'] == '@Lowi_es' , 'orden'] = 13\n",
    "df_f.loc[df_f['username'] == '@vodafoneyu' , 'orden'] = 12\n",
    "df_f.loc[df_f['username'] == '@movistar_es' , 'orden'] = 4\n",
    "df_f.loc[df_f['username'] == '@TuentiES' , 'orden'] = 6\n",
    "df_f.loc[df_f['username'] == '@o2es' , 'orden'] = 5\n",
    "df_f.loc[df_f['username'] == '@orange_es' , 'orden'] = 7\n",
    "df_f.loc[df_f['username'] == '@jazztel_es' , 'orden'] = 10\n",
    "df_f.loc[df_f['username'] == '@Amena' , 'orden'] = 9\n",
    "df_f.loc[df_f['username'] == '@simyo_es' , 'orden'] = 8\n",
    "df_f.loc[df_f['username'] == '@masmovil' , 'orden'] = 1\n",
    "df_f.loc[df_f['username'] == '@pepephone' , 'orden'] = 2\n",
    "df_f.loc[df_f['username'] == '@yoigo' , 'orden'] = 3\n",
    "\n",
    "df_f['color'] = ''\n",
    "\n",
    "df_f.loc[df_f['username'] == '@vodafone_es' , 'color'] = 11\n",
    "df_f.loc[df_f['username'] == '@Lowi_es' , 'color'] = 13\n",
    "df_f.loc[df_f['username'] == '@vodafoneyu' , 'color'] = 12\n",
    "df_f.loc[df_f['username'] == '@movistar_es' , 'color'] = 4\n",
    "df_f.loc[df_f['username'] == '@TuentiES' , 'color'] = 6\n",
    "df_f.loc[df_f['username'] == '@o2es' , 'color'] = 5\n",
    "df_f.loc[df_f['username'] == '@orange_es' , 'color'] = 7\n",
    "df_f.loc[df_f['username'] == '@jazztel_es' , 'color'] = 10\n",
    "df_f.loc[df_f['username'] == '@Amena' , 'color'] = 9\n",
    "df_f.loc[df_f['username'] == '@simyo_es' , 'color'] = 8\n",
    "df_f.loc[df_f['username'] == '@masmovil' , 'color'] = 1\n",
    "df_f.loc[df_f['username'] == '@pepephone' , 'color'] = 2\n",
    "df_f.loc[df_f['username'] == '@yoigo' , 'color'] = 'o'\n",
    "\n",
    "df_f = df_f.loc[(df_f['created_at'] >= start_date) & (df_f['created_at'] < end_date) ,]\n",
    "\n",
    "  \n",
    "\n",
    "\n",
    "df_f =  df_f.pivot_table(index=['username','orden','color'],values=['stars']).sort_values(by='orden' ,ascending=True).reset_index()\n"
   ]
  },
  {
   "cell_type": "code",
   "execution_count": 93,
   "metadata": {},
   "outputs": [
    {
     "data": {
      "text/html": [
       "<div>\n",
       "<style scoped>\n",
       "    .dataframe tbody tr th:only-of-type {\n",
       "        vertical-align: middle;\n",
       "    }\n",
       "\n",
       "    .dataframe tbody tr th {\n",
       "        vertical-align: top;\n",
       "    }\n",
       "\n",
       "    .dataframe thead th {\n",
       "        text-align: right;\n",
       "    }\n",
       "</style>\n",
       "<table border=\"1\" class=\"dataframe\">\n",
       "  <thead>\n",
       "    <tr style=\"text-align: right;\">\n",
       "      <th></th>\n",
       "      <th>username</th>\n",
       "      <th>orden</th>\n",
       "      <th>color</th>\n",
       "      <th>stars</th>\n",
       "    </tr>\n",
       "  </thead>\n",
       "  <tbody>\n",
       "    <tr>\n",
       "      <th>0</th>\n",
       "      <td>@masmovil</td>\n",
       "      <td>1</td>\n",
       "      <td>1</td>\n",
       "      <td>2.411765</td>\n",
       "    </tr>\n",
       "    <tr>\n",
       "      <th>1</th>\n",
       "      <td>@pepephone</td>\n",
       "      <td>2</td>\n",
       "      <td>2</td>\n",
       "      <td>2.311475</td>\n",
       "    </tr>\n",
       "    <tr>\n",
       "      <th>2</th>\n",
       "      <td>@yoigo</td>\n",
       "      <td>3</td>\n",
       "      <td>o</td>\n",
       "      <td>2.153846</td>\n",
       "    </tr>\n",
       "    <tr>\n",
       "      <th>3</th>\n",
       "      <td>@movistar_es</td>\n",
       "      <td>4</td>\n",
       "      <td>4</td>\n",
       "      <td>2.335958</td>\n",
       "    </tr>\n",
       "    <tr>\n",
       "      <th>4</th>\n",
       "      <td>@o2es</td>\n",
       "      <td>5</td>\n",
       "      <td>5</td>\n",
       "      <td>2.620690</td>\n",
       "    </tr>\n",
       "    <tr>\n",
       "      <th>5</th>\n",
       "      <td>@TuentiES</td>\n",
       "      <td>6</td>\n",
       "      <td>6</td>\n",
       "      <td>1.545455</td>\n",
       "    </tr>\n",
       "    <tr>\n",
       "      <th>6</th>\n",
       "      <td>@orange_es</td>\n",
       "      <td>7</td>\n",
       "      <td>7</td>\n",
       "      <td>2.179319</td>\n",
       "    </tr>\n",
       "    <tr>\n",
       "      <th>7</th>\n",
       "      <td>@simyo_es</td>\n",
       "      <td>8</td>\n",
       "      <td>8</td>\n",
       "      <td>2.366667</td>\n",
       "    </tr>\n",
       "    <tr>\n",
       "      <th>8</th>\n",
       "      <td>@Amena</td>\n",
       "      <td>9</td>\n",
       "      <td>9</td>\n",
       "      <td>2.913043</td>\n",
       "    </tr>\n",
       "    <tr>\n",
       "      <th>9</th>\n",
       "      <td>@jazztel_es</td>\n",
       "      <td>10</td>\n",
       "      <td>10</td>\n",
       "      <td>1.669014</td>\n",
       "    </tr>\n",
       "    <tr>\n",
       "      <th>10</th>\n",
       "      <td>@vodafone_es</td>\n",
       "      <td>11</td>\n",
       "      <td>11</td>\n",
       "      <td>2.347037</td>\n",
       "    </tr>\n",
       "    <tr>\n",
       "      <th>11</th>\n",
       "      <td>@vodafoneyu</td>\n",
       "      <td>12</td>\n",
       "      <td>12</td>\n",
       "      <td>3.086957</td>\n",
       "    </tr>\n",
       "    <tr>\n",
       "      <th>12</th>\n",
       "      <td>@Lowi_es</td>\n",
       "      <td>13</td>\n",
       "      <td>13</td>\n",
       "      <td>1.782609</td>\n",
       "    </tr>\n",
       "  </tbody>\n",
       "</table>\n",
       "</div>"
      ],
      "text/plain": [
       "        username  orden color     stars\n",
       "0      @masmovil      1     1  2.411765\n",
       "1     @pepephone      2     2  2.311475\n",
       "2         @yoigo      3     o  2.153846\n",
       "3   @movistar_es      4     4  2.335958\n",
       "4          @o2es      5     5  2.620690\n",
       "5      @TuentiES      6     6  1.545455\n",
       "6     @orange_es      7     7  2.179319\n",
       "7      @simyo_es      8     8  2.366667\n",
       "8         @Amena      9     9  2.913043\n",
       "9    @jazztel_es     10    10  1.669014\n",
       "10  @vodafone_es     11    11  2.347037\n",
       "11   @vodafoneyu     12    12  3.086957\n",
       "12      @Lowi_es     13    13  1.782609"
      ]
     },
     "execution_count": 93,
     "metadata": {},
     "output_type": "execute_result"
    }
   ],
   "source": [
    "\n",
    "\n",
    "\n",
    "\n",
    "\n",
    "\n",
    "\n",
    "df_f\n",
    "\n"
   ]
  },
  {
   "cell_type": "code",
   "execution_count": 94,
   "metadata": {},
   "outputs": [
    {
     "data": {
      "text/plain": [
       "[1, 2, 'o', 4, 5, 6, 7, 8, 9, 10, 11, 12, 13]"
      ]
     },
     "execution_count": 94,
     "metadata": {},
     "output_type": "execute_result"
    }
   ],
   "source": [
    "df_f['color'].to_list()"
   ]
  },
  {
   "cell_type": "code",
   "execution_count": 90,
   "metadata": {},
   "outputs": [],
   "source": [
    "colors = ['rgb(55, 83, 109)'] * 5"
   ]
  },
  {
   "cell_type": "code",
   "execution_count": 91,
   "metadata": {},
   "outputs": [
    {
     "data": {
      "text/plain": [
       "['rgb(55, 83, 109)',\n",
       " 'rgb(55, 83, 109)',\n",
       " 'rgb(55, 83, 109)',\n",
       " 'rgb(55, 83, 109)',\n",
       " 'rgb(55, 83, 109)']"
      ]
     },
     "execution_count": 91,
     "metadata": {},
     "output_type": "execute_result"
    }
   ],
   "source": [
    "colors"
   ]
  },
  {
   "cell_type": "code",
   "execution_count": null,
   "metadata": {},
   "outputs": [],
   "source": []
  },
  {
   "cell_type": "code",
   "execution_count": null,
   "metadata": {},
   "outputs": [],
   "source": []
  },
  {
   "cell_type": "code",
   "execution_count": null,
   "metadata": {},
   "outputs": [],
   "source": []
  },
  {
   "cell_type": "code",
   "execution_count": null,
   "metadata": {},
   "outputs": [],
   "source": []
  },
  {
   "cell_type": "code",
   "execution_count": null,
   "metadata": {},
   "outputs": [],
   "source": []
  },
  {
   "cell_type": "code",
   "execution_count": null,
   "metadata": {},
   "outputs": [],
   "source": []
  }
 ],
 "metadata": {
  "kernelspec": {
   "display_name": "Python [conda env:sentiment_env]",
   "language": "python",
   "name": "conda-env-sentiment_env-py"
  },
  "language_info": {
   "codemirror_mode": {
    "name": "ipython",
    "version": 3
   },
   "file_extension": ".py",
   "mimetype": "text/x-python",
   "name": "python",
   "nbconvert_exporter": "python",
   "pygments_lexer": "ipython3",
   "version": "3.7.9"
  }
 },
 "nbformat": 4,
 "nbformat_minor": 4
}
